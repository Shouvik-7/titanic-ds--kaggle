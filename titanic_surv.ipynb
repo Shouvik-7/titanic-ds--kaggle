{
 "cells": [
  {
   "cell_type": "code",
   "execution_count": 21,
   "metadata": {
    "scrolled": true
   },
   "outputs": [],
   "source": [
    "import numpy as np\n",
    "import pandas as pd\n",
    "from sklearn.model_selection import train_test_split\n",
    "\n",
    "data_df = pd.read_csv(\"train.csv\")\n",
    "data_df[\"Age\"] = data_df[\"Age\"].fillna(value=data_df[\"Age\"].median())\n",
    "data_df = data_df.loc[:,[\"Survived\",\"Pclass\",\"Sex\",\"Age\",\"Fare\"]]\n",
    "FEATURES = [\"Pclass\",\"Sex\",\"Age\",\"Fare\"]\n",
    "y = np.array(data_df[\"Survived\"].values.tolist())\n",
    "X = np.array(data_df[FEATURES].replace(\"male\",0).replace(\"female\",1).replace(\"S\",0).replace(\"C\",1).replace(\"Q\",-1).values.tolist())\n",
    "\n"
   ]
  },
  {
   "cell_type": "code",
   "execution_count": 22,
   "metadata": {},
   "outputs": [
    {
     "name": "stderr",
     "output_type": "stream",
     "text": [
      "C:\\Users\\shouv\\anaconda3\\lib\\site-packages\\sklearn\\svm\\_base.py:947: ConvergenceWarning: Liblinear failed to converge, increase the number of iterations.\n",
      "  \"the number of iterations.\", ConvergenceWarning)\n"
     ]
    }
   ],
   "source": [
    "X_train, X_test, y_train, y_test = train_test_split(X,y,test_size =0.10, random_state = 42)\n",
    "from sklearn import svm\n",
    "from sklearn.neighbors import KNeighborsClassifier\n",
    "clf_trial = svm.LinearSVC()\n",
    "clf_trial.fit(X_train, y_train)\n",
    "y_pred_trial = clf_trial.predict(X_test)\n",
    "\n",
    "\n"
   ]
  },
  {
   "cell_type": "code",
   "execution_count": 23,
   "metadata": {},
   "outputs": [
    {
     "name": "stdout",
     "output_type": "stream",
     "text": [
      "0.8666666666666667\n"
     ]
    }
   ],
   "source": [
    "from sklearn.metrics import accuracy_score\n",
    "acc=accuracy_score(y_test, y_pred_trial)\n",
    "print(acc)"
   ]
  },
  {
   "cell_type": "code",
   "execution_count": 24,
   "metadata": {},
   "outputs": [
    {
     "name": "stdout",
     "output_type": "stream",
     "text": [
      "   PassengerId  Survived\n",
      "0          892         0\n",
      "1          893         0\n",
      "2          894         0\n",
      "3          895         0\n",
      "4          896         0\n"
     ]
    }
   ],
   "source": [
    "df_test = pd.read_csv(\"test.csv\")\n",
    "df_test[\"Age\"] = data_df[\"Age\"].fillna(value=data_df[\"Age\"].median())\n",
    "df_test[\"Fare\"] = data_df[\"Fare\"].fillna(value=data_df[\"Fare\"].median())\n",
    "X_test_act = np.array(df_test[FEATURES].replace(\"male\",0).replace(\"female\",1).replace(\"S\",0).replace(\"C\",1).replace(\"Q\",-1).values.tolist())\n",
    "\n",
    "#clf = svm.LinearSVC()\n",
    "#clf.fit(X, y)\n",
    "#y_pred = clf.predict(X_test_act)\n",
    "y_pred = clf_trial.predict(X_test_act)\n",
    "df_out = pd.DataFrame({'PassengerId':df_test[\"PassengerId\"],'Survived':y_pred})\n",
    "\n",
    "print(df_out.head())"
   ]
  },
  {
   "cell_type": "code",
   "execution_count": 25,
   "metadata": {},
   "outputs": [],
   "source": [
    "df_out.to_csv(\"out.csv\")\n"
   ]
  },
  {
   "cell_type": "code",
   "execution_count": null,
   "metadata": {},
   "outputs": [],
   "source": []
  },
  {
   "cell_type": "code",
   "execution_count": null,
   "metadata": {},
   "outputs": [],
   "source": []
  },
  {
   "cell_type": "code",
   "execution_count": null,
   "metadata": {},
   "outputs": [],
   "source": []
  }
 ],
 "metadata": {
  "kernelspec": {
   "display_name": "Python 3",
   "language": "python",
   "name": "python3"
  },
  "language_info": {
   "codemirror_mode": {
    "name": "ipython",
    "version": 3
   },
   "file_extension": ".py",
   "mimetype": "text/x-python",
   "name": "python",
   "nbconvert_exporter": "python",
   "pygments_lexer": "ipython3",
   "version": "3.7.6"
  }
 },
 "nbformat": 4,
 "nbformat_minor": 4
}
